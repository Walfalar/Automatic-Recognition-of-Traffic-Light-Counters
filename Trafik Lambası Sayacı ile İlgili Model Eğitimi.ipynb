{
 "cells": [
  {
   "cell_type": "markdown",
   "metadata": {
    "_uuid": "8c80a83f7fb1ab87aabbdad97d11627fb0380e8f"
   },
   "source": [
    "# Trafik Lambası Sayacı ile İlgili Model Eğitimi (CNN)"
   ]
  },
  {
   "cell_type": "markdown",
   "metadata": {
    "_cell_guid": "79c7e3d0-c299-4dcb-8224-4455121ee9b0",
    "_uuid": "d629ff2d2480ee46fbb7e2d37f6b5fab8052498a",
    "collapsed": true
   },
   "source": [
    "## Gerekli Kütüphaneleri Yükleme"
   ]
  },
  {
   "cell_type": "code",
   "execution_count": 8,
   "metadata": {
    "_cell_guid": "b1076dfc-b9ad-4769-8c92-a6c4dae69d19",
    "_uuid": "8f2839f25d086af736a60e9eeb907d3b93b6e0e5",
    "scrolled": true
   },
   "outputs": [
    {
     "name": "stdout",
     "output_type": "stream",
     "text": [
      "Gerekli kütüphaneler yüklendi.\n"
     ]
    }
   ],
   "source": [
    "# Gerekli kütüphaneleri yükleme\n",
    "import numpy as np\n",
    "import tensorflow as tf\n",
    "from tensorflow.keras.models import Sequential\n",
    "from tensorflow.keras.layers import Conv2D, MaxPooling2D, Flatten, Dense, Input\n",
    "from tensorflow.keras.utils import to_categorical\n",
    "from sklearn.model_selection import train_test_split\n",
    "import os\n",
    "import cv2\n",
    "import matplotlib.pyplot as plt\n",
    "from sklearn.metrics import confusion_matrix, classification_report\n",
    "\n",
    "print(\"Gerekli kütüphaneler yüklendi.\")\n"
   ]
  },
  {
   "cell_type": "markdown",
   "metadata": {
    "_cell_guid": "79c7e3d0-c299-4dcb-8224-4455121ee9b0",
    "_uuid": "d629ff2d2480ee46fbb7e2d37f6b5fab8052498a",
    "collapsed": true
   },
   "source": [
    "## Görüntü verilerini yükleme ve işleme"
   ]
  },
  {
   "cell_type": "code",
   "execution_count": 9,
   "metadata": {
    "_uuid": "6884db4361a209f639cd6f3bf15231d271ecf563",
    "scrolled": true
   },
   "outputs": [
    {
     "name": "stdout",
     "output_type": "stream",
     "text": [
      "Görüntüler yüklendi. Toplam görüntü sayısı: 2047 labels: ['0' '0' '0' ... '9' '9' '9']\n",
      "Etiketler sayısal hale getirildi. Etiket örnekleri: [0 0 0 ... 9 9 9]\n"
     ]
    }
   ],
   "source": [
    "# Görüntü verilerini yükleme ve işleme\n",
    "def load_images_from_folder(folder):\n",
    "    images = []\n",
    "    labels = []\n",
    "    if not os.path.exists(folder):\n",
    "        raise FileNotFoundError(f\"Klasör bulunamadı: {folder}\")\n",
    "    for filename in os.listdir(folder):\n",
    "        img = cv2.imread(os.path.join(folder, filename))\n",
    "        if img is not None:\n",
    "            img = cv2.resize(img, (170, 350))\n",
    "            images.append(img)\n",
    "            # Etiketlerin dosya isminde alt çizgiden önce olduğunu varsayıyoruz, örneğin 'image_label.jpg'\n",
    "            label = filename.split('_')[1]\n",
    "            labels.append(label)\n",
    "    return np.array(images), np.array(labels)\n",
    "\n",
    "# Klasörden görüntüleri yükleme\n",
    "folder_path = r'C:\\\\Users\\\\WaLFaLaR\\\\tez\\\\veri\\\\son7\\\\ortss'  # Görüntülerin bulunduğu klasörün yolunu buraya yazın\n",
    "X, y = load_images_from_folder(folder_path)\n",
    "\n",
    "print(f\"Görüntüler yüklendi. Toplam görüntü sayısı: {len(X)} labels: {y}\")\n",
    "\n",
    "# Etiketleri sayısal hale getirme\n",
    "label_to_index = {label: idx for idx, label in enumerate(np.unique(y))}\n",
    "y_numeric = np.array([label_to_index[label] for label in y])\n",
    "\n",
    "print(f\"Etiketler sayısal hale getirildi. Etiket örnekleri: {y_numeric[:]}\") \n",
    "\n",
    "\n"
   ]
  },
  {
   "cell_type": "markdown",
   "metadata": {
    "_cell_guid": "79c7e3d0-c299-4dcb-8224-4455121ee9b0",
    "_uuid": "d629ff2d2480ee46fbb7e2d37f6b5fab8052498a",
    "collapsed": true
   },
   "source": [
    "## Görüntüleri eğitim ve test verilerine bölme"
   ]
  },
  {
   "cell_type": "code",
   "execution_count": 10,
   "metadata": {},
   "outputs": [
    {
     "name": "stdout",
     "output_type": "stream",
     "text": [
      "Veriler eğitim ve test setlerine ayrıldı ve normalleştirildi.\n"
     ]
    }
   ],
   "source": [
    "# Verileri eğitim ve test verilerine bölme\n",
    "X_train, X_test, y_train, y_test = train_test_split(X, y_numeric, test_size=0.2, random_state=42)\n",
    "\n",
    "# Verileri normalize etme (0-1 arası değerler)\n",
    "X_train = X_train / 255.0\n",
    "X_test = X_test / 255.0\n",
    "\n",
    "# Etiketleri kategorik hale getirme\n",
    "num_classes = len(np.unique(y_numeric))\n",
    "y_train = to_categorical(y_train, num_classes)\n",
    "y_test = to_categorical(y_test, num_classes)\n",
    "\n",
    "print(\"Veriler eğitim ve test setlerine ayrıldı ve normalleştirildi.\")"
   ]
  },
  {
   "cell_type": "markdown",
   "metadata": {
    "_cell_guid": "79c7e3d0-c299-4dcb-8224-4455121ee9b0",
    "_uuid": "d629ff2d2480ee46fbb7e2d37f6b5fab8052498a",
    "collapsed": true
   },
   "source": [
    "## Model tanımlama ve özet"
   ]
  },
  {
   "cell_type": "code",
   "execution_count": 11,
   "metadata": {
    "scrolled": true
   },
   "outputs": [
    {
     "data": {
      "text/html": [
       "<pre style=\"white-space:pre;overflow-x:auto;line-height:normal;font-family:Menlo,'DejaVu Sans Mono',consolas,'Courier New',monospace\"><span style=\"font-weight: bold\">Model: \"sequential_1\"</span>\n",
       "</pre>\n"
      ],
      "text/plain": [
       "\u001b[1mModel: \"sequential_1\"\u001b[0m\n"
      ]
     },
     "metadata": {},
     "output_type": "display_data"
    },
    {
     "data": {
      "text/html": [
       "<pre style=\"white-space:pre;overflow-x:auto;line-height:normal;font-family:Menlo,'DejaVu Sans Mono',consolas,'Courier New',monospace\">┏━━━━━━━━━━━━━━━━━━━━━━━━━━━━━━━━━┳━━━━━━━━━━━━━━━━━━━━━━━━┳━━━━━━━━━━━━━━━┓\n",
       "┃<span style=\"font-weight: bold\"> Layer (type)                    </span>┃<span style=\"font-weight: bold\"> Output Shape           </span>┃<span style=\"font-weight: bold\">       Param # </span>┃\n",
       "┡━━━━━━━━━━━━━━━━━━━━━━━━━━━━━━━━━╇━━━━━━━━━━━━━━━━━━━━━━━━╇━━━━━━━━━━━━━━━┩\n",
       "│ conv2d_3 (<span style=\"color: #0087ff; text-decoration-color: #0087ff\">Conv2D</span>)               │ (<span style=\"color: #00d7ff; text-decoration-color: #00d7ff\">None</span>, <span style=\"color: #00af00; text-decoration-color: #00af00\">348</span>, <span style=\"color: #00af00; text-decoration-color: #00af00\">168</span>, <span style=\"color: #00af00; text-decoration-color: #00af00\">32</span>)   │           <span style=\"color: #00af00; text-decoration-color: #00af00\">896</span> │\n",
       "├─────────────────────────────────┼────────────────────────┼───────────────┤\n",
       "│ max_pooling2d_3 (<span style=\"color: #0087ff; text-decoration-color: #0087ff\">MaxPooling2D</span>)  │ (<span style=\"color: #00d7ff; text-decoration-color: #00d7ff\">None</span>, <span style=\"color: #00af00; text-decoration-color: #00af00\">174</span>, <span style=\"color: #00af00; text-decoration-color: #00af00\">84</span>, <span style=\"color: #00af00; text-decoration-color: #00af00\">32</span>)    │             <span style=\"color: #00af00; text-decoration-color: #00af00\">0</span> │\n",
       "├─────────────────────────────────┼────────────────────────┼───────────────┤\n",
       "│ conv2d_4 (<span style=\"color: #0087ff; text-decoration-color: #0087ff\">Conv2D</span>)               │ (<span style=\"color: #00d7ff; text-decoration-color: #00d7ff\">None</span>, <span style=\"color: #00af00; text-decoration-color: #00af00\">172</span>, <span style=\"color: #00af00; text-decoration-color: #00af00\">82</span>, <span style=\"color: #00af00; text-decoration-color: #00af00\">64</span>)    │        <span style=\"color: #00af00; text-decoration-color: #00af00\">18,496</span> │\n",
       "├─────────────────────────────────┼────────────────────────┼───────────────┤\n",
       "│ max_pooling2d_4 (<span style=\"color: #0087ff; text-decoration-color: #0087ff\">MaxPooling2D</span>)  │ (<span style=\"color: #00d7ff; text-decoration-color: #00d7ff\">None</span>, <span style=\"color: #00af00; text-decoration-color: #00af00\">86</span>, <span style=\"color: #00af00; text-decoration-color: #00af00\">41</span>, <span style=\"color: #00af00; text-decoration-color: #00af00\">64</span>)     │             <span style=\"color: #00af00; text-decoration-color: #00af00\">0</span> │\n",
       "├─────────────────────────────────┼────────────────────────┼───────────────┤\n",
       "│ conv2d_5 (<span style=\"color: #0087ff; text-decoration-color: #0087ff\">Conv2D</span>)               │ (<span style=\"color: #00d7ff; text-decoration-color: #00d7ff\">None</span>, <span style=\"color: #00af00; text-decoration-color: #00af00\">84</span>, <span style=\"color: #00af00; text-decoration-color: #00af00\">39</span>, <span style=\"color: #00af00; text-decoration-color: #00af00\">128</span>)    │        <span style=\"color: #00af00; text-decoration-color: #00af00\">73,856</span> │\n",
       "├─────────────────────────────────┼────────────────────────┼───────────────┤\n",
       "│ max_pooling2d_5 (<span style=\"color: #0087ff; text-decoration-color: #0087ff\">MaxPooling2D</span>)  │ (<span style=\"color: #00d7ff; text-decoration-color: #00d7ff\">None</span>, <span style=\"color: #00af00; text-decoration-color: #00af00\">42</span>, <span style=\"color: #00af00; text-decoration-color: #00af00\">19</span>, <span style=\"color: #00af00; text-decoration-color: #00af00\">128</span>)    │             <span style=\"color: #00af00; text-decoration-color: #00af00\">0</span> │\n",
       "├─────────────────────────────────┼────────────────────────┼───────────────┤\n",
       "│ flatten_1 (<span style=\"color: #0087ff; text-decoration-color: #0087ff\">Flatten</span>)             │ (<span style=\"color: #00d7ff; text-decoration-color: #00d7ff\">None</span>, <span style=\"color: #00af00; text-decoration-color: #00af00\">102144</span>)         │             <span style=\"color: #00af00; text-decoration-color: #00af00\">0</span> │\n",
       "├─────────────────────────────────┼────────────────────────┼───────────────┤\n",
       "│ dense_2 (<span style=\"color: #0087ff; text-decoration-color: #0087ff\">Dense</span>)                 │ (<span style=\"color: #00d7ff; text-decoration-color: #00d7ff\">None</span>, <span style=\"color: #00af00; text-decoration-color: #00af00\">128</span>)            │    <span style=\"color: #00af00; text-decoration-color: #00af00\">13,074,560</span> │\n",
       "├─────────────────────────────────┼────────────────────────┼───────────────┤\n",
       "│ dropout_1 (<span style=\"color: #0087ff; text-decoration-color: #0087ff\">Dropout</span>)             │ (<span style=\"color: #00d7ff; text-decoration-color: #00d7ff\">None</span>, <span style=\"color: #00af00; text-decoration-color: #00af00\">128</span>)            │             <span style=\"color: #00af00; text-decoration-color: #00af00\">0</span> │\n",
       "├─────────────────────────────────┼────────────────────────┼───────────────┤\n",
       "│ dense_3 (<span style=\"color: #0087ff; text-decoration-color: #0087ff\">Dense</span>)                 │ (<span style=\"color: #00d7ff; text-decoration-color: #00d7ff\">None</span>, <span style=\"color: #00af00; text-decoration-color: #00af00\">10</span>)             │         <span style=\"color: #00af00; text-decoration-color: #00af00\">1,290</span> │\n",
       "└─────────────────────────────────┴────────────────────────┴───────────────┘\n",
       "</pre>\n"
      ],
      "text/plain": [
       "┏━━━━━━━━━━━━━━━━━━━━━━━━━━━━━━━━━┳━━━━━━━━━━━━━━━━━━━━━━━━┳━━━━━━━━━━━━━━━┓\n",
       "┃\u001b[1m \u001b[0m\u001b[1mLayer (type)                   \u001b[0m\u001b[1m \u001b[0m┃\u001b[1m \u001b[0m\u001b[1mOutput Shape          \u001b[0m\u001b[1m \u001b[0m┃\u001b[1m \u001b[0m\u001b[1m      Param #\u001b[0m\u001b[1m \u001b[0m┃\n",
       "┡━━━━━━━━━━━━━━━━━━━━━━━━━━━━━━━━━╇━━━━━━━━━━━━━━━━━━━━━━━━╇━━━━━━━━━━━━━━━┩\n",
       "│ conv2d_3 (\u001b[38;5;33mConv2D\u001b[0m)               │ (\u001b[38;5;45mNone\u001b[0m, \u001b[38;5;34m348\u001b[0m, \u001b[38;5;34m168\u001b[0m, \u001b[38;5;34m32\u001b[0m)   │           \u001b[38;5;34m896\u001b[0m │\n",
       "├─────────────────────────────────┼────────────────────────┼───────────────┤\n",
       "│ max_pooling2d_3 (\u001b[38;5;33mMaxPooling2D\u001b[0m)  │ (\u001b[38;5;45mNone\u001b[0m, \u001b[38;5;34m174\u001b[0m, \u001b[38;5;34m84\u001b[0m, \u001b[38;5;34m32\u001b[0m)    │             \u001b[38;5;34m0\u001b[0m │\n",
       "├─────────────────────────────────┼────────────────────────┼───────────────┤\n",
       "│ conv2d_4 (\u001b[38;5;33mConv2D\u001b[0m)               │ (\u001b[38;5;45mNone\u001b[0m, \u001b[38;5;34m172\u001b[0m, \u001b[38;5;34m82\u001b[0m, \u001b[38;5;34m64\u001b[0m)    │        \u001b[38;5;34m18,496\u001b[0m │\n",
       "├─────────────────────────────────┼────────────────────────┼───────────────┤\n",
       "│ max_pooling2d_4 (\u001b[38;5;33mMaxPooling2D\u001b[0m)  │ (\u001b[38;5;45mNone\u001b[0m, \u001b[38;5;34m86\u001b[0m, \u001b[38;5;34m41\u001b[0m, \u001b[38;5;34m64\u001b[0m)     │             \u001b[38;5;34m0\u001b[0m │\n",
       "├─────────────────────────────────┼────────────────────────┼───────────────┤\n",
       "│ conv2d_5 (\u001b[38;5;33mConv2D\u001b[0m)               │ (\u001b[38;5;45mNone\u001b[0m, \u001b[38;5;34m84\u001b[0m, \u001b[38;5;34m39\u001b[0m, \u001b[38;5;34m128\u001b[0m)    │        \u001b[38;5;34m73,856\u001b[0m │\n",
       "├─────────────────────────────────┼────────────────────────┼───────────────┤\n",
       "│ max_pooling2d_5 (\u001b[38;5;33mMaxPooling2D\u001b[0m)  │ (\u001b[38;5;45mNone\u001b[0m, \u001b[38;5;34m42\u001b[0m, \u001b[38;5;34m19\u001b[0m, \u001b[38;5;34m128\u001b[0m)    │             \u001b[38;5;34m0\u001b[0m │\n",
       "├─────────────────────────────────┼────────────────────────┼───────────────┤\n",
       "│ flatten_1 (\u001b[38;5;33mFlatten\u001b[0m)             │ (\u001b[38;5;45mNone\u001b[0m, \u001b[38;5;34m102144\u001b[0m)         │             \u001b[38;5;34m0\u001b[0m │\n",
       "├─────────────────────────────────┼────────────────────────┼───────────────┤\n",
       "│ dense_2 (\u001b[38;5;33mDense\u001b[0m)                 │ (\u001b[38;5;45mNone\u001b[0m, \u001b[38;5;34m128\u001b[0m)            │    \u001b[38;5;34m13,074,560\u001b[0m │\n",
       "├─────────────────────────────────┼────────────────────────┼───────────────┤\n",
       "│ dropout_1 (\u001b[38;5;33mDropout\u001b[0m)             │ (\u001b[38;5;45mNone\u001b[0m, \u001b[38;5;34m128\u001b[0m)            │             \u001b[38;5;34m0\u001b[0m │\n",
       "├─────────────────────────────────┼────────────────────────┼───────────────┤\n",
       "│ dense_3 (\u001b[38;5;33mDense\u001b[0m)                 │ (\u001b[38;5;45mNone\u001b[0m, \u001b[38;5;34m10\u001b[0m)             │         \u001b[38;5;34m1,290\u001b[0m │\n",
       "└─────────────────────────────────┴────────────────────────┴───────────────┘\n"
      ]
     },
     "metadata": {},
     "output_type": "display_data"
    },
    {
     "data": {
      "text/html": [
       "<pre style=\"white-space:pre;overflow-x:auto;line-height:normal;font-family:Menlo,'DejaVu Sans Mono',consolas,'Courier New',monospace\"><span style=\"font-weight: bold\"> Total params: </span><span style=\"color: #00af00; text-decoration-color: #00af00\">13,169,098</span> (50.24 MB)\n",
       "</pre>\n"
      ],
      "text/plain": [
       "\u001b[1m Total params: \u001b[0m\u001b[38;5;34m13,169,098\u001b[0m (50.24 MB)\n"
      ]
     },
     "metadata": {},
     "output_type": "display_data"
    },
    {
     "data": {
      "text/html": [
       "<pre style=\"white-space:pre;overflow-x:auto;line-height:normal;font-family:Menlo,'DejaVu Sans Mono',consolas,'Courier New',monospace\"><span style=\"font-weight: bold\"> Trainable params: </span><span style=\"color: #00af00; text-decoration-color: #00af00\">13,169,098</span> (50.24 MB)\n",
       "</pre>\n"
      ],
      "text/plain": [
       "\u001b[1m Trainable params: \u001b[0m\u001b[38;5;34m13,169,098\u001b[0m (50.24 MB)\n"
      ]
     },
     "metadata": {},
     "output_type": "display_data"
    },
    {
     "data": {
      "text/html": [
       "<pre style=\"white-space:pre;overflow-x:auto;line-height:normal;font-family:Menlo,'DejaVu Sans Mono',consolas,'Courier New',monospace\"><span style=\"font-weight: bold\"> Non-trainable params: </span><span style=\"color: #00af00; text-decoration-color: #00af00\">0</span> (0.00 B)\n",
       "</pre>\n"
      ],
      "text/plain": [
       "\u001b[1m Non-trainable params: \u001b[0m\u001b[38;5;34m0\u001b[0m (0.00 B)\n"
      ]
     },
     "metadata": {},
     "output_type": "display_data"
    }
   ],
   "source": [
    "from tensorflow.keras.models import Sequential\n",
    "from tensorflow.keras.layers import Conv2D, MaxPooling2D, Flatten, Dense, Dropout\n",
    "\n",
    "# Modeli tanımlama\n",
    "model = Sequential([\n",
    "    Input(shape=(350, 170, 3)),\n",
    "    Conv2D(32, (3, 3), activation='relu'),\n",
    "    MaxPooling2D((2, 2)),\n",
    "    Conv2D(64, (3, 3), activation='relu'),\n",
    "    MaxPooling2D((2, 2)),\n",
    "    Conv2D(128, (3, 3), activation='relu'),\n",
    "    MaxPooling2D((2, 2)),\n",
    "    Flatten(),\n",
    "    Dense(128, activation='relu'),\n",
    "    Dropout(0.5),  # Dropout katmanı ekleyerek düzenlileştirme\n",
    "    Dense(num_classes, activation='softmax')\n",
    "])\n",
    "\n",
    "# Modeli derleme\n",
    "model.compile(optimizer='adam', loss='categorical_crossentropy', metrics=['accuracy'])\n",
    "\n",
    "# Modeli özetleme\n",
    "model.summary()\n"
   ]
  },
  {
   "cell_type": "markdown",
   "metadata": {
    "_cell_guid": "79c7e3d0-c299-4dcb-8224-4455121ee9b0",
    "_uuid": "d629ff2d2480ee46fbb7e2d37f6b5fab8052498a",
    "collapsed": true
   },
   "source": [
    "## Model Oluşturma \n",
    "#### Eğitim sürecini görselleştirme"
   ]
  },
  {
   "cell_type": "code",
   "execution_count": 13,
   "metadata": {},
   "outputs": [
    {
     "name": "stdout",
     "output_type": "stream",
     "text": [
      "Dizi başarıyla oluşturuldu.\n",
      "Küçük boyutlu dizi başarıyla oluşturuldu.\n",
      "Epoch 1/10\n",
      "\u001b[1m52/52\u001b[0m \u001b[32m━━━━━━━━━━━━━━━━━━━━\u001b[0m\u001b[37m\u001b[0m \u001b[1m73s\u001b[0m 1s/step - accuracy: 0.4662 - loss: 1.4793 - val_accuracy: 0.9220 - val_loss: 0.2343\n",
      "Epoch 2/10\n",
      "\u001b[1m52/52\u001b[0m \u001b[32m━━━━━━━━━━━━━━━━━━━━\u001b[0m\u001b[37m\u001b[0m \u001b[1m79s\u001b[0m 1s/step - accuracy: 0.7800 - loss: 0.5956 - val_accuracy: 0.9317 - val_loss: 0.2134\n",
      "Epoch 3/10\n",
      "\u001b[1m52/52\u001b[0m \u001b[32m━━━━━━━━━━━━━━━━━━━━\u001b[0m\u001b[37m\u001b[0m \u001b[1m63s\u001b[0m 1s/step - accuracy: 0.8439 - loss: 0.3827 - val_accuracy: 0.9488 - val_loss: 0.1429\n",
      "Epoch 4/10\n",
      "\u001b[1m52/52\u001b[0m \u001b[32m━━━━━━━━━━━━━━━━━━━━\u001b[0m\u001b[37m\u001b[0m \u001b[1m62s\u001b[0m 1s/step - accuracy: 0.8644 - loss: 0.3067 - val_accuracy: 0.9439 - val_loss: 0.1315\n",
      "Epoch 5/10\n",
      "\u001b[1m52/52\u001b[0m \u001b[32m━━━━━━━━━━━━━━━━━━━━\u001b[0m\u001b[37m\u001b[0m \u001b[1m75s\u001b[0m 1s/step - accuracy: 0.8662 - loss: 0.3585 - val_accuracy: 0.9463 - val_loss: 0.1144\n",
      "Epoch 6/10\n",
      "\u001b[1m52/52\u001b[0m \u001b[32m━━━━━━━━━━━━━━━━━━━━\u001b[0m\u001b[37m\u001b[0m \u001b[1m76s\u001b[0m 1s/step - accuracy: 0.8876 - loss: 0.2866 - val_accuracy: 0.9390 - val_loss: 0.1156\n",
      "Epoch 7/10\n",
      "\u001b[1m52/52\u001b[0m \u001b[32m━━━━━━━━━━━━━━━━━━━━\u001b[0m\u001b[37m\u001b[0m \u001b[1m77s\u001b[0m 1s/step - accuracy: 0.8942 - loss: 0.2488 - val_accuracy: 0.9415 - val_loss: 0.1176\n",
      "Epoch 8/10\n",
      "\u001b[1m52/52\u001b[0m \u001b[32m━━━━━━━━━━━━━━━━━━━━\u001b[0m\u001b[37m\u001b[0m \u001b[1m72s\u001b[0m 1s/step - accuracy: 0.9067 - loss: 0.2380 - val_accuracy: 0.9561 - val_loss: 0.1121\n",
      "Epoch 9/10\n",
      "\u001b[1m52/52\u001b[0m \u001b[32m━━━━━━━━━━━━━━━━━━━━\u001b[0m\u001b[37m\u001b[0m \u001b[1m70s\u001b[0m 1s/step - accuracy: 0.9083 - loss: 0.2097 - val_accuracy: 0.9561 - val_loss: 0.1170\n",
      "Epoch 10/10\n",
      "\u001b[1m52/52\u001b[0m \u001b[32m━━━━━━━━━━━━━━━━━━━━\u001b[0m\u001b[37m\u001b[0m \u001b[1m81s\u001b[0m 2s/step - accuracy: 0.9240 - loss: 0.2052 - val_accuracy: 0.9512 - val_loss: 0.1038\n"
     ]
    },
    {
     "data": {
      "image/png": "[encoded data removed]",
      "text/plain": [
       "<Figure size 640x480 with 1 Axes>"
      ]
     },
     "metadata": {},
     "output_type": "display_data"
    }
   ],
   "source": [
    "# Mevcut modelin eğitilmesi\n",
    "# Orijinal dizi boyutu\n",
    "original_shape = (1637, 350, 170, 3)\n",
    "\n",
    "\n",
    "try:\n",
    "    data = np.zeros(original_shape, dtype=np.float16)\n",
    "    print(\"Dizi başarıyla oluşturuldu.\")\n",
    "except MemoryError:\n",
    "    print(\"Yeterli bellek yok.\")\n",
    "\n",
    "# Alternatif olarak, dizi boyutunu küçültme\n",
    "reduced_shape = (819, 175, 85, 3)\n",
    "try:\n",
    "    reduced_data = np.zeros(reduced_shape, dtype=np.float32)\n",
    "    print(\"Küçük boyutlu dizi başarıyla oluşturuldu.\")\n",
    "except MemoryError:\n",
    "    print(\"Yeterli bellek yok.\")\n",
    "\n",
    "# Modeli eğitme\n",
    "history = model.fit(X_train, y_train, epochs=10, validation_data=(X_test, y_test))\n",
    "\n",
    "# Eğitim sürecini görselleştirme\n",
    "plt.plot(history.history['accuracy'], label='Eğitim Doğruluğu')\n",
    "plt.plot(history.history['val_accuracy'], label='Doğrulama Doğruluğu')\n",
    "plt.xlabel('Epoch')\n",
    "plt.ylabel('Doğruluk')\n",
    "plt.legend()\n",
    "plt.show()\n"
   ]
  },
  {
   "cell_type": "markdown",
   "metadata": {
    "_cell_guid": "79c7e3d0-c299-4dcb-8224-4455121ee9b0",
    "_uuid": "d629ff2d2480ee46fbb7e2d37f6b5fab8052498a",
    "collapsed": true
   },
   "source": [
    "## Model Değerlendirme\n",
    "* Modelin performansını değerlendirin ve test seti üzerindeki doğruluğunu hesaplayın."
   ]
  },
  {
   "cell_type": "code",
   "execution_count": 26,
   "metadata": {},
   "outputs": [
    {
     "data": {
      "image/png": "[encoded data removed]",
      "text/plain": [
       "<Figure size 1200x400 with 2 Axes>"
      ]
     },
     "metadata": {},
     "output_type": "display_data"
    }
   ],
   "source": [
    "# Model değerlendirme\n",
    "import matplotlib.pyplot as plt\n",
    "from sklearn.metrics import confusion_matrix, classification_report\n",
    "\n",
    "# Modelin doğruluk ve kayıp eğrilerini çizme\n",
    "plt.figure(figsize=(12, 4))\n",
    "\n",
    "plt.subplot(1, 2, 1)\n",
    "plt.plot(history.history['accuracy'], label='Eğitim Doğruluğu')\n",
    "plt.plot(history.history['val_accuracy'], label='Doğrulama Doğruluğu')\n",
    "plt.xlabel('Epoch')\n",
    "plt.ylabel('Doğruluk')\n",
    "plt.legend()\n",
    "\n",
    "plt.subplot(1, 2, 2)\n",
    "plt.plot(history.history['loss'], label='Eğitim Kaybı')\n",
    "plt.plot(history.history['val_loss'], label='Doğrulama Kaybı')\n",
    "plt.xlabel('Epoch')\n",
    "plt.ylabel('Kayıp')\n",
    "plt.legend()\n",
    "\n",
    "plt.show()\n"
   ]
  },
  {
   "cell_type": "markdown",
   "metadata": {
    "_cell_guid": "79c7e3d0-c299-4dcb-8224-4455121ee9b0",
    "_uuid": "d629ff2d2480ee46fbb7e2d37f6b5fab8052498a",
    "collapsed": true
   },
   "source": [
    "## Model ve Ağırlıkları Kaydetme\n",
    "* Modeli kaydedin ve gerektiğinde yükleyin."
   ]
  },
  {
   "cell_type": "code",
   "execution_count": 6,
   "metadata": {},
   "outputs": [
    {
     "name": "stdout",
     "output_type": "stream",
     "text": [
      "Model 2trained_model.keras dosyasına kaydedildi.\n",
      "Ağırlıklar 2model_weights.weights.h5 dosyasına kaydedildi.\n"
     ]
    }
   ],
   "source": [
    "# Modelin tamamını kaydetme (Keras formatı)\n",
    "model_path = '2trained_model.keras'\n",
    "model.save(model_path)\n",
    "print(f\"Model {model_path} dosyasına kaydedildi.\")\n",
    "\n",
    "# Sadece ağırlıkları kaydetme (doğru dosya uzantısıyla)\n",
    "weights_path = '2model_weights.weights.h5'\n",
    "model.save_weights(weights_path)\n",
    "print(f\"Ağırlıklar {weights_path} dosyasına kaydedildi.\")"
   ]
  },
  {
   "cell_type": "markdown",
   "metadata": {
    "_cell_guid": "79c7e3d0-c299-4dcb-8224-4455121ee9b0",
    "_uuid": "d629ff2d2480ee46fbb7e2d37f6b5fab8052498a",
    "collapsed": true
   },
   "source": [
    "\n",
    "\n",
    "## Modeli bir fotoğraf ile test edin\n"
   ]
  },
  {
   "cell_type": "code",
   "execution_count": 1,
   "metadata": {},
   "outputs": [
    {
     "name": "stdout",
     "output_type": "stream",
     "text": [
      "Model ve ağırlıkları yüklendi.\n",
      "[[[[0.3254902  0.3372549  0.3647059 ]\n",
      "   [0.3254902  0.3372549  0.3647059 ]\n",
      "   [0.3254902  0.3372549  0.3647059 ]\n",
      "   ...\n",
      "   [0.3372549  0.3254902  0.32941177]\n",
      "   [0.33333334 0.32156864 0.3254902 ]\n",
      "   [0.33333334 0.32156864 0.3254902 ]]\n",
      "\n",
      "  [[0.3254902  0.32941177 0.35686275]\n",
      "   [0.3254902  0.32941177 0.35686275]\n",
      "   [0.3254902  0.32941177 0.35686275]\n",
      "   ...\n",
      "   [0.3372549  0.32156864 0.32941177]\n",
      "   [0.33333334 0.32156864 0.32156864]\n",
      "   [0.33333334 0.32156864 0.32156864]]\n",
      "\n",
      "  [[0.32156864 0.3254902  0.34901962]\n",
      "   [0.32156864 0.3254902  0.34901962]\n",
      "   [0.32156864 0.3254902  0.34901962]\n",
      "   ...\n",
      "   [0.3372549  0.32156864 0.32941177]\n",
      "   [0.33333334 0.32156864 0.3254902 ]\n",
      "   [0.33333334 0.32156864 0.3254902 ]]\n",
      "\n",
      "  ...\n",
      "\n",
      "  [[0.20392157 0.21960784 0.23529412]\n",
      "   [0.20392157 0.21960784 0.23529412]\n",
      "   [0.20392157 0.21568628 0.23529412]\n",
      "   ...\n",
      "   [0.20392157 0.21568628 0.22352941]\n",
      "   [0.20392157 0.21568628 0.21960784]\n",
      "   [0.20392157 0.21568628 0.21960784]]\n",
      "\n",
      "  [[0.20392157 0.21568628 0.23137255]\n",
      "   [0.20392157 0.21568628 0.23137255]\n",
      "   [0.2        0.21176471 0.23137255]\n",
      "   ...\n",
      "   [0.20784314 0.21960784 0.21960784]\n",
      "   [0.20392157 0.21960784 0.21960784]\n",
      "   [0.20392157 0.21960784 0.21960784]]\n",
      "\n",
      "  [[0.20784314 0.21176471 0.23529412]\n",
      "   [0.20784314 0.21176471 0.23529412]\n",
      "   [0.20392157 0.21176471 0.23137255]\n",
      "   ...\n",
      "   [0.21568628 0.21176471 0.23137255]\n",
      "   [0.21568628 0.21176471 0.23137255]\n",
      "   [0.21568628 0.21176471 0.23137255]]]]\n",
      "\u001b[1m1/1\u001b[0m \u001b[32m━━━━━━━━━━━━━━━━━━━━\u001b[0m\u001b[37m\u001b[0m \u001b[1m0s\u001b[0m 363ms/step\n",
      "Predictions: [[0.03539272 0.07469997 0.27631924 0.05807933 0.10465507 0.05497282\n",
      "  0.1672979  0.0219422  0.16749345 0.03914729]]\n",
      "Tahmin edilen sınıf endeksi: 2\n",
      "Tahmin edilen sınıf olasılığı: 0.2763192355632782\n",
      "gerçek sınıf adı: sayı=2\n"
     ]
    }
   ],
   "source": [
    "import os\n",
    "import numpy as np\n",
    "from tensorflow.keras.models import load_model\n",
    "from tensorflow.keras.preprocessing import image\n",
    "\n",
    "# Dosya yolunu kontrol etmek için os modülünü import edin\n",
    "import os\n",
    "\n",
    "# Model ve ağırlıkları yükleme\n",
    "model_path = 'trained_model.keras'  # Model dosyasının yolu\n",
    "weights_path = 'model_weights.weights.h5'  # Ağırlık dosyasının yolu\n",
    "\n",
    "# Eğitimli model ve ağırlıkların yüklenmesi\n",
    "model = load_model(model_path)\n",
    "model.load_weights(weights_path)\n",
    "print(\"Model ve ağırlıkları yüklendi.\")\n",
    "\n",
    "# Görüntüyü yükleyin ve hazırlayın\n",
    "def load_and_prepare_image(img_path, target_size=(170, 350)):\n",
    "    if not os.path.exists(img_path):\n",
    "        raise FileNotFoundError(f\"{img_path} yolunda dosya bulunamadı.\")\n",
    "    \n",
    "    img = image.load_img(img_path, target_size=target_size)\n",
    "    img_array = image.img_to_array(img)\n",
    "    img_array = np.expand_dims(img_array, axis=0)  # Batch boyutu ekleyin\n",
    "    img_array /= 255.0  # Normalizasyon (modelinizin gereksinimlerine göre ayarlayın)\n",
    "    return img_array\n",
    "\n",
    "# Görüntü yükleyin ve hazırlayın\n",
    "img_path = r'C:\\Users\\WaLFaLaR\\tez\\veri\\son7\\ortss\\foto_9_(25-18).jpg'\n",
    "prepared_image = load_and_prepare_image(img_path, target_size=(170, 350))\n",
    "print(prepared_image)\n",
    "\n",
    "# Modeli kullanarak tahmin yapın\n",
    "predictions = model.predict(prepared_image)\n",
    "\n",
    "# Tahmin sonucunu yazdırın\n",
    "print(\"Predictions:\", predictions)\n",
    "\n",
    "# En yüksek olasılığı ve bu olasılığın hangi sınıfa ait olduğunu bulma\n",
    "predicted_class_index = np.argmax(predictions)\n",
    "predicted_class_probability = np.max(predictions)\n",
    "\n",
    "print(f\"Tahmin edilen sınıf endeksi: {predicted_class_index}\")\n",
    "print(f\"Tahmin edilen sınıf olasılığı: {predicted_class_probability}\")\n",
    "\n",
    "# Sınıf isimleri (modelinizin eğitildiği sınıflara göre ayarlayın)\n",
    "class_names = ['sayı=0', 'sayı=1', 'sayı=2', 'sayı=3', 'sayı=4', 'sayı=5', 'sayı=6', 'sayı=7', 'sayı=8', 'sayı=09']\n",
    "\n",
    "predicted_class_name = class_names[predicted_class_index]\n",
    "print(f\"gerçek sınıf adı: {predicted_class_name}\")\n"
   ]
  },
  {
   "cell_type": "code",
   "execution_count": null,
   "metadata": {},
   "outputs": [],
   "source": []
  }
 ],
 "metadata": {
  "kernelspec": {
   "display_name": "Python 3 (ipykernel)",
   "language": "python",
   "name": "python3"
  },
  "language_info": {
   "codemirror_mode": {
    "name": "ipython",
    "version": 3
   },
   "file_extension": ".py",
   "mimetype": "text/x-python",
   "name": "python",
   "nbconvert_exporter": "python",
   "pygments_lexer": "ipython3",
   "version": "3.11.5"
  }
 },
 "nbformat": 4,
 "nbformat_minor": 1
}
